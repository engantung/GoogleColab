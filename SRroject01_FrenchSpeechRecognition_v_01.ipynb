{
  "nbformat": 4,
  "nbformat_minor": 0,
  "metadata": {
    "colab": {
      "name": "SRroject01_FrenchSpeechRecognition_v_01.ipynb",
      "provenance": [],
      "collapsed_sections": [],
      "authorship_tag": "ABX9TyPDMHbovjnkr6sfYFY5rpET",
      "include_colab_link": true
    },
    "kernelspec": {
      "name": "python3",
      "display_name": "Python 3"
    },
    "accelerator": "GPU"
  },
  "cells": [
    {
      "cell_type": "markdown",
      "metadata": {
        "id": "view-in-github",
        "colab_type": "text"
      },
      "source": [
        "<a href=\"https://colab.research.google.com/github/engantung/GoogleColab/blob/master/SRroject01_FrenchSpeechRecognition_v_01.ipynb\" target=\"_parent\"><img src=\"https://colab.research.google.com/assets/colab-badge.svg\" alt=\"Open In Colab\"/></a>"
      ]
    },
    {
      "cell_type": "code",
      "metadata": {
        "id": "BHi8xDXsJrhr",
        "colab": {
          "base_uri": "https://localhost:8080/"
        },
        "outputId": "881be558-f822-40b4-e0f5-38d03cded997"
      },
      "source": [
        "!python -V"
      ],
      "execution_count": 1,
      "outputs": [
        {
          "output_type": "stream",
          "text": [
            "Python 3.6.9\n"
          ],
          "name": "stdout"
        }
      ]
    },
    {
      "cell_type": "code",
      "metadata": {
        "id": "0BnnBbM-JyyV",
        "colab": {
          "base_uri": "https://localhost:8080/"
        },
        "outputId": "327855fb-33f5-402f-e0b7-13667451cdea"
      },
      "source": [
        "###################### Only if you use Google Colab ############################\n",
        "###################### B E G I N Google Colab Code #############################\n",
        "from google.colab import drive\n",
        "drive.mount('/content/drive')"
      ],
      "execution_count": 2,
      "outputs": [
        {
          "output_type": "stream",
          "text": [
            "Mounted at /content/drive\n"
          ],
          "name": "stdout"
        }
      ]
    },
    {
      "cell_type": "code",
      "metadata": {
        "id": "U9t4BL7jJ1hE",
        "colab": {
          "base_uri": "https://localhost:8080/"
        },
        "outputId": "2db68ced-cd6e-49d8-d658-4987ae50d5ba"
      },
      "source": [
        "%cd /content/drive/My\\ Drive/CAL_French\\ Course/TestAudio/"
      ],
      "execution_count": 3,
      "outputs": [
        {
          "output_type": "stream",
          "text": [
            "/content/drive/My Drive/CAL_French Course/TestAudio\n"
          ],
          "name": "stdout"
        }
      ]
    },
    {
      "cell_type": "code",
      "metadata": {
        "id": "kHP7L-oAJ4vr",
        "colab": {
          "base_uri": "https://localhost:8080/"
        },
        "outputId": "520889e0-10c1-4f4b-bcea-9f44d1e06534"
      },
      "source": [
        "!ls"
      ],
      "execution_count": 12,
      "outputs": [
        {
          "output_type": "stream",
          "text": [
            "f_m.wav  indah.wav\n"
          ],
          "name": "stdout"
        }
      ]
    },
    {
      "cell_type": "code",
      "metadata": {
        "colab": {
          "base_uri": "https://localhost:8080/"
        },
        "id": "JUE_964EBOZr",
        "outputId": "956d5619-80fd-40f0-c9b8-0e4b0500c2a4"
      },
      "source": [
        "!pip3 install --upgrade speechrecognition"
      ],
      "execution_count": 5,
      "outputs": [
        {
          "output_type": "stream",
          "text": [
            "Collecting speechrecognition\n",
            "\u001b[?25l  Downloading https://files.pythonhosted.org/packages/26/e1/7f5678cd94ec1234269d23756dbdaa4c8cfaed973412f88ae8adf7893a50/SpeechRecognition-3.8.1-py2.py3-none-any.whl (32.8MB)\n",
            "\u001b[K     |████████████████████████████████| 32.8MB 97kB/s \n",
            "\u001b[?25hInstalling collected packages: speechrecognition\n",
            "Successfully installed speechrecognition-3.8.1\n"
          ],
          "name": "stdout"
        }
      ]
    },
    {
      "cell_type": "code",
      "metadata": {
        "id": "6CDy3Sn7J6_M"
      },
      "source": [
        "import sys\n",
        "sys.path.append('content/drive/My Drive/CAL_French\\ Course/TestAudio/')"
      ],
      "execution_count": 6,
      "outputs": []
    },
    {
      "cell_type": "code",
      "metadata": {
        "id": "Dblxow1HIcCF"
      },
      "source": [
        "\"\"\"\r\n",
        "Created on 31 Dec 2020\r\n",
        "\"\"\"\r\n",
        "import speech_recognition as sr"
      ],
      "execution_count": 8,
      "outputs": []
    },
    {
      "cell_type": "code",
      "metadata": {
        "id": "LN_kyllK9HCA"
      },
      "source": [
        "AUDIO_FILE = (\"f_m.wav\")"
      ],
      "execution_count": 13,
      "outputs": []
    },
    {
      "cell_type": "code",
      "metadata": {
        "id": "Qeijb3QF9f1x"
      },
      "source": [
        "r = sr.Recognizer()"
      ],
      "execution_count": 14,
      "outputs": []
    },
    {
      "cell_type": "code",
      "metadata": {
        "colab": {
          "base_uri": "https://localhost:8080/"
        },
        "id": "_mazvIdF9lWu",
        "outputId": "d25de3eb-7013-46df-8281-664a15b427f8"
      },
      "source": [
        "with sr.AudioFile(AUDIO_FILE) as source:\r\n",
        "  audio = r.record(source)\r\n",
        "\r\n",
        "try:\r\n",
        "  print(\"The audio file contains: \" + r.recognize_google(audio, language= 'fr-FR'))\r\n",
        "\r\n",
        "except sr.UnknownValueError:\r\n",
        "  print(\"Google Speech Recognition could not understand audio\")\r\n",
        "\r\n",
        "except sr.RequestError as e:\r\n",
        "  print(\"Could not request results from Google Speech Recognition service; {0}\".format(e))\r\n"
      ],
      "execution_count": 15,
      "outputs": [
        {
          "output_type": "stream",
          "text": [
            "The audio file contains: la bise le soleil se disputer chacun assurer qui était le plus fort quand ils virent d'un voyageur s'avancer enveloppé dans son manteau ils tombèrent d'accord que celui qui arriverait le premier à lui faire enlever son manteau serait le plus fort alors là ce midi tu as soufflé de toutes ses forces autour de lui\n"
          ],
          "name": "stdout"
        }
      ]
    }
  ]
}